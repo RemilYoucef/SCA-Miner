{
 "cells": [
  {
   "cell_type": "code",
   "execution_count": 1,
   "id": "7ab72000-45c3-481d-b739-d83aa637b2b7",
   "metadata": {},
   "outputs": [],
   "source": [
    "import os\n",
    "import sys\n",
    "import codecs\n",
    "import pickle\n",
    "import copy\n",
    "import json\n",
    "import math"
   ]
  },
  {
   "cell_type": "code",
   "execution_count": 2,
   "id": "24182a70-f405-4f3e-bb34-da1b965cf059",
   "metadata": {},
   "outputs": [],
   "source": [
    "import Dag\n",
    "import DesignPoint\n",
    "import Model\n",
    "import QualityComputer\n",
    "import ScaleProbaComputer\n",
    "import Snapshots\n",
    "import SubDag\n",
    "import SubDagWritable\n",
    "import SdNodeWritable\n",
    "import Utils"
   ]
  },
  {
   "cell_type": "code",
   "execution_count": 3,
   "id": "684bb113-d653-4c6b-95fa-5f0478ea3849",
   "metadata": {},
   "outputs": [
    {
     "data": {
      "text/plain": [
       "'/home/yre/notebooks-ia/sd-antichains-paper/data/data-vt/'"
      ]
     },
     "execution_count": 3,
     "metadata": {},
     "output_type": "execute_result"
    }
   ],
   "source": [
    "dataDirectory = os.path.join(os.path.dirname(os.getcwd()), 'data/data-vt/')\n",
    "dataDirectory"
   ]
  },
  {
   "cell_type": "code",
   "execution_count": 4,
   "id": "f82c7ab6-3766-4292-9059-d33f92534582",
   "metadata": {},
   "outputs": [],
   "source": [
    "dagPath = dataDirectory + \"DAG-VT.txt\"\n",
    "itemNamesPath = dataDirectory + \"itemsNames-vt.txt\"\n",
    "modelSupportPath = dataDirectory + \"supportAllZeros-vt.txt\"\n",
    "snapshotSupportsPath = dataDirectory + \"supportSnapshot-vt.txt\"\n",
    "snapshotsSupportsPath = dataDirectory + \"supportAllSnapshots-vt.txt\"\n",
    "snapshotsNamesPath = dataDirectory + \"snapshotNames-vt.txt\""
   ]
  },
  {
   "cell_type": "code",
   "execution_count": 5,
   "id": "0dd5b7f7-f75c-4947-a4b9-99627d7d5cd0",
   "metadata": {},
   "outputs": [],
   "source": [
    "designPoint = DesignPoint.DesignPoint(maxX = 16000)"
   ]
  },
  {
   "cell_type": "code",
   "execution_count": 6,
   "id": "59b3302d-853d-4cae-8bb7-cd24ea7c630b",
   "metadata": {},
   "outputs": [],
   "source": [
    "dag =  Dag.Dag(itemNamesPath, dagPath)\n",
    "dag.root.updateDepth(1)"
   ]
  },
  {
   "cell_type": "code",
   "execution_count": 7,
   "id": "a3435ff6-c129-4179-9a83-51c8fe6b43d0",
   "metadata": {},
   "outputs": [],
   "source": [
    "model = Model.Model(modelSupportPath, dag, 'belief')"
   ]
  },
  {
   "cell_type": "code",
   "execution_count": 8,
   "id": "2af6f8a1-303c-47cb-a3d4-997c61fc3685",
   "metadata": {
    "tags": []
   },
   "outputs": [],
   "source": [
    "allSnapshot = Snapshots.Snapshots(snapshotsSupportsPath, snapshotsNamesPath, dag)"
   ]
  },
  {
   "cell_type": "code",
   "execution_count": 9,
   "id": "cd389a7d-ff7a-46ff-9a8e-19b26b5e1a48",
   "metadata": {
    "tags": []
   },
   "outputs": [],
   "source": [
    "pickle.dump(list(allSnapshot.dictSnapshotNames.values()), open(dataDirectory + 'snapshotNames-vt', 'wb'))"
   ]
  },
  {
   "cell_type": "code",
   "execution_count": 10,
   "id": "95e104a4-ae4e-4587-8b6e-49bf8bde3ccf",
   "metadata": {
    "tags": []
   },
   "outputs": [],
   "source": [
    "fileMiner = json.load(open(dataDirectory + 'probasModel-vt.json','rb'))"
   ]
  },
  {
   "cell_type": "code",
   "execution_count": 11,
   "id": "ff8daf47-024d-43c4-9f90-d12c0c374b7e",
   "metadata": {},
   "outputs": [],
   "source": [
    "miner = ScaleProbaComputer.ScaleProbaComputer(dag, model, QualityComputer.QualityComputer(designPoint))"
   ]
  },
  {
   "cell_type": "code",
   "execution_count": 12,
   "id": "4ec65e4e-c62b-4270-bfba-d3d32947aae0",
   "metadata": {},
   "outputs": [],
   "source": [
    "miner.rebuildAllSdNodes(fileMiner['sdNodes'])"
   ]
  },
  {
   "cell_type": "code",
   "execution_count": 13,
   "id": "1c1a149e-2062-4393-9b41-7fffccf0a511",
   "metadata": {},
   "outputs": [],
   "source": [
    "miner.fillSdNodesWithObservedValues(allSnapshot.dictSnapshots[455])"
   ]
  },
  {
   "cell_type": "code",
   "execution_count": 14,
   "id": "467addcd-e3ca-4009-a081-f78ff9a3f3be",
   "metadata": {},
   "outputs": [],
   "source": [
    "pickle.dump(miner, open(dataDirectory + 'miner-vt', 'wb'))"
   ]
  },
  {
   "cell_type": "code",
   "execution_count": 15,
   "id": "86dc30d4-0d4d-488c-9ced-04e18cc06f52",
   "metadata": {},
   "outputs": [
    {
     "data": {
      "text/plain": [
       "799"
      ]
     },
     "execution_count": 15,
     "metadata": {},
     "output_type": "execute_result"
    }
   ],
   "source": [
    "len(allSnapshot.dictSnapshots)"
   ]
  },
  {
   "cell_type": "code",
   "execution_count": 16,
   "id": "235ae733-8579-4bd3-b974-8421df2cd430",
   "metadata": {},
   "outputs": [],
   "source": [
    "minerSD = {}\n",
    "for i in range(0, len(allSnapshot.dictSnapshots)):\n",
    "    minerCopy = copy.deepcopy(miner)\n",
    "    minerCopy.fillSdNodesWithObservedValues(allSnapshot.dictSnapshots[i])\n",
    "    minerSD[i] = minerCopy\n",
    "    del minerCopy"
   ]
  },
  {
   "cell_type": "code",
   "execution_count": 17,
   "id": "05586ab8-c3bb-4ab8-bf1f-fcd2b591fa95",
   "metadata": {},
   "outputs": [],
   "source": [
    "pickle.dump(list(minerSD.values()), open(dataDirectory + 'minerSD-vt', 'wb'))\n",
    "del minerSD"
   ]
  }
 ],
 "metadata": {
  "kernelspec": {
   "display_name": "split-sd4x",
   "language": "python",
   "name": "split-sd4x"
  },
  "language_info": {
   "codemirror_mode": {
    "name": "ipython",
    "version": 3
   },
   "file_extension": ".py",
   "mimetype": "text/x-python",
   "name": "python",
   "nbconvert_exporter": "python",
   "pygments_lexer": "ipython3",
   "version": "3.7.10"
  }
 },
 "nbformat": 4,
 "nbformat_minor": 5
}
