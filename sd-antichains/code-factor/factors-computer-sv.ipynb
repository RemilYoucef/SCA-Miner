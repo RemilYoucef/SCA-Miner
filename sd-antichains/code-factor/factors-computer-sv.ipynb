{
 "cells": [
  {
   "cell_type": "code",
   "execution_count": 1,
   "id": "7ab72000-45c3-481d-b739-d83aa637b2b7",
   "metadata": {},
   "outputs": [],
   "source": [
    "import os\n",
    "import sys\n",
    "import codecs\n",
    "import pickle\n",
    "import copy\n",
    "import json\n",
    "import math"
   ]
  },
  {
   "cell_type": "code",
   "execution_count": 2,
   "id": "24182a70-f405-4f3e-bb34-da1b965cf059",
   "metadata": {},
   "outputs": [],
   "source": [
    "import Dag\n",
    "import DesignPoint\n",
    "import Model\n",
    "import QualityComputer\n",
    "import ScaleProbaComputer\n",
    "import Snapshots\n",
    "import SubDag\n",
    "import SubDagWritable\n",
    "import SdNodeWritable\n",
    "import Utils"
   ]
  },
  {
   "cell_type": "code",
   "execution_count": 3,
   "id": "684bb113-d653-4c6b-95fa-5f0478ea3849",
   "metadata": {},
   "outputs": [
    {
     "data": {
      "text/plain": [
       "'/home/yre/notebooks-ia/sd-antichains-paper/data/data-sv/'"
      ]
     },
     "execution_count": 3,
     "metadata": {},
     "output_type": "execute_result"
    }
   ],
   "source": [
    "dataDirectory = os.path.join(os.path.dirname(os.getcwd()), 'data/data-sv/')\n",
    "dataDirectory"
   ]
  },
  {
   "cell_type": "code",
   "execution_count": 4,
   "id": "f82c7ab6-3766-4292-9059-d33f92534582",
   "metadata": {},
   "outputs": [],
   "source": [
    "dagPath = dataDirectory + \"DAG-SV.txt\"\n",
    "itemNamesPath = dataDirectory + \"itemsNames-sv.txt\"\n",
    "modelSupportPath = dataDirectory + \"supportAllZeros-sv.txt\"\n",
    "snapshotSupportsPath = dataDirectory + \"supportSnapshot-sv.txt\"\n",
    "snapshotsSupportsPath = dataDirectory + \"supportAllSnapshots-sv.txt\"\n",
    "snapshotsNamesPath = dataDirectory + \"snapshotNames-sv.txt\""
   ]
  },
  {
   "cell_type": "code",
   "execution_count": 5,
   "id": "0dd5b7f7-f75c-4947-a4b9-99627d7d5cd0",
   "metadata": {},
   "outputs": [],
   "source": [
    "designPoint = DesignPoint.DesignPoint(maxX = 8000)"
   ]
  },
  {
   "cell_type": "code",
   "execution_count": 6,
   "id": "59b3302d-853d-4cae-8bb7-cd24ea7c630b",
   "metadata": {},
   "outputs": [],
   "source": [
    "dag =  Dag.Dag(itemNamesPath, dagPath)\n",
    "dag.root.updateDepth(1)"
   ]
  },
  {
   "cell_type": "code",
   "execution_count": 7,
   "id": "65705184-c342-4624-a474-b1078151d0b6",
   "metadata": {},
   "outputs": [
    {
     "name": "stdout",
     "output_type": "stream",
     "text": [
      "Number of Edges : 202\n"
     ]
    }
   ],
   "source": [
    "print('Number of Edges : ' + str(len(dag.allNodes) - 1))"
   ]
  },
  {
   "cell_type": "code",
   "execution_count": 15,
   "id": "54f1bb75-70e5-4d63-9fdf-1b94349ad0e2",
   "metadata": {},
   "outputs": [
    {
     "name": "stdout",
     "output_type": "stream",
     "text": [
      "Depth of the hierarchy : 7\n"
     ]
    }
   ],
   "source": [
    "depth = 0\n",
    "for node in dag.allNodes:\n",
    "    if depth < node.depth :\n",
    "        depth = node.depth\n",
    "print('Depth of the hierarchy : ' + str(depth-1))"
   ]
  },
  {
   "cell_type": "code",
   "execution_count": 17,
   "id": "0b365631-e08e-4a48-b65a-88e19e853eab",
   "metadata": {},
   "outputs": [
    {
     "name": "stdout",
     "output_type": "stream",
     "text": [
      "Number of classes : 153\n"
     ]
    }
   ],
   "source": [
    "cpt = 0\n",
    "for node in dag.allNodes:\n",
    "    if len(node.allDesc) == 0 :\n",
    "        cpt += 1\n",
    "print('Number of classes : ' + str(cpt))"
   ]
  },
  {
   "cell_type": "code",
   "execution_count": 20,
   "id": "bbc07c41-9f51-498e-9bfc-17da329384b6",
   "metadata": {},
   "outputs": [
    {
     "name": "stdout",
     "output_type": "stream",
     "text": [
      "branching factor : 4.04\n"
     ]
    }
   ],
   "source": [
    "somme = 0\n",
    "cpt = 0\n",
    "for i in range (len(dag.allNodes)):\n",
    "    if len(dag.allNodes[i].directDesc) > 0 :\n",
    "        cpt += 1\n",
    "        somme += len(dag.allNodes[i].directDesc)\n",
    "print('branching factor : ' + str(somme / cpt))"
   ]
  },
  {
   "cell_type": "code",
   "execution_count": 22,
   "id": "a3435ff6-c129-4179-9a83-51c8fe6b43d0",
   "metadata": {},
   "outputs": [],
   "source": [
    "model = Model.Model(modelSupportPath, dag, 'belief')"
   ]
  },
  {
   "cell_type": "code",
   "execution_count": 23,
   "id": "2af6f8a1-303c-47cb-a3d4-997c61fc3685",
   "metadata": {
    "tags": []
   },
   "outputs": [],
   "source": [
    "allSnapshot = Snapshots.Snapshots(snapshotsSupportsPath, snapshotsNamesPath, dag)"
   ]
  },
  {
   "cell_type": "code",
   "execution_count": 24,
   "id": "b1c41d4e-4d40-4d46-a1da-8647ecd31df9",
   "metadata": {},
   "outputs": [
    {
     "name": "stdout",
     "output_type": "stream",
     "text": [
      "Number of snapshots : 159\n"
     ]
    }
   ],
   "source": [
    "print('Number of snapshots : ' + str(allSnapshot.nSnapshots))"
   ]
  },
  {
   "cell_type": "code",
   "execution_count": 14,
   "id": "ff8daf47-024d-43c4-9f90-d12c0c374b7e",
   "metadata": {},
   "outputs": [],
   "source": [
    "miner = ScaleProbaComputer.ScaleProbaComputer(dag, model, QualityComputer.QualityComputer(designPoint))"
   ]
  },
  {
   "cell_type": "code",
   "execution_count": 15,
   "id": "f3f8c6c4-1728-46c5-9aa4-dd6877f93bce",
   "metadata": {},
   "outputs": [],
   "source": [
    "miner.buildAllSdNodesWithExpectedValues()"
   ]
  },
  {
   "cell_type": "code",
   "execution_count": 16,
   "id": "30be0684-30b7-494c-9663-2496bc26442e",
   "metadata": {
    "collapsed": true,
    "jupyter": {
     "outputs_hidden": true
    },
    "tags": []
   },
   "outputs": [
    {
     "name": "stdout",
     "output_type": "stream",
     "text": [
      "curIndex:1\n",
      "curIndex:2\n",
      "curIndex:3\n",
      "curIndex:4\n",
      "curIndex:5\n",
      "curIndex:6\n",
      "curIndex:7\n",
      "curIndex:8\n",
      "curIndex:9\n",
      "curIndex:10\n",
      "curIndex:11\n",
      "curIndex:12\n",
      "curIndex:13\n",
      "curIndex:14\n",
      "curIndex:15\n",
      "curIndex:16\n",
      "curIndex:17\n",
      "curIndex:18\n",
      "curIndex:19\n",
      "curIndex:20\n",
      "curIndex:21\n",
      "curIndex:22\n",
      "curIndex:23\n",
      "curIndex:24\n",
      "curIndex:25\n",
      "curIndex:26\n",
      "curIndex:27\n",
      "curIndex:28\n",
      "curIndex:29\n",
      "curIndex:30\n",
      "curIndex:31\n",
      "curIndex:32\n",
      "curIndex:33\n",
      "curIndex:34\n",
      "curIndex:35\n",
      "curIndex:36\n",
      "curIndex:37\n",
      "curIndex:38\n",
      "curIndex:39\n",
      "curIndex:40\n",
      "curIndex:41\n",
      "curIndex:42\n",
      "curIndex:43\n",
      "curIndex:44\n",
      "curIndex:45\n",
      "curIndex:46\n",
      "curIndex:47\n",
      "curIndex:48\n",
      "curIndex:49\n",
      "curIndex:50\n",
      "curIndex:51\n",
      "curIndex:52\n",
      "curIndex:53\n",
      "curIndex:54\n",
      "curIndex:55\n",
      "curIndex:56\n",
      "curIndex:57\n",
      "curIndex:58\n",
      "curIndex:59\n",
      "curIndex:60\n",
      "curIndex:61\n",
      "curIndex:62\n",
      "curIndex:63\n",
      "curIndex:64\n",
      "curIndex:65\n",
      "curIndex:66\n",
      "curIndex:67\n",
      "curIndex:68\n",
      "curIndex:69\n",
      "curIndex:70\n",
      "curIndex:71\n",
      "curIndex:72\n",
      "curIndex:73\n",
      "curIndex:74\n",
      "curIndex:75\n",
      "curIndex:76\n",
      "curIndex:77\n",
      "curIndex:78\n",
      "curIndex:79\n",
      "curIndex:80\n",
      "curIndex:81\n",
      "curIndex:82\n",
      "curIndex:83\n",
      "curIndex:84\n",
      "curIndex:85\n",
      "curIndex:86\n",
      "curIndex:87\n",
      "curIndex:88\n",
      "curIndex:89\n",
      "curIndex:90\n",
      "curIndex:91\n",
      "curIndex:92\n",
      "curIndex:93\n",
      "curIndex:94\n",
      "curIndex:95\n",
      "curIndex:96\n",
      "curIndex:97\n",
      "curIndex:98\n",
      "curIndex:99\n",
      "curIndex:100\n",
      "curIndex:101\n",
      "curIndex:102\n",
      "curIndex:103\n",
      "curIndex:104\n",
      "curIndex:105\n",
      "curIndex:106\n",
      "curIndex:107\n",
      "curIndex:108\n",
      "curIndex:109\n",
      "curIndex:110\n",
      "curIndex:111\n",
      "curIndex:112\n",
      "curIndex:113\n",
      "curIndex:114\n",
      "curIndex:115\n",
      "curIndex:116\n",
      "curIndex:117\n",
      "curIndex:118\n",
      "curIndex:119\n",
      "curIndex:120\n",
      "curIndex:121\n",
      "curIndex:122\n",
      "curIndex:123\n",
      "curIndex:124\n",
      "curIndex:125\n",
      "curIndex:126\n",
      "curIndex:127\n",
      "curIndex:128\n",
      "curIndex:129\n",
      "curIndex:130\n",
      "curIndex:131\n",
      "curIndex:132\n",
      "curIndex:133\n",
      "curIndex:134\n",
      "curIndex:135\n",
      "curIndex:136\n",
      "curIndex:137\n",
      "curIndex:138\n",
      "curIndex:139\n",
      "curIndex:140\n",
      "curIndex:141\n",
      "curIndex:142\n",
      "curIndex:143\n",
      "curIndex:144\n",
      "curIndex:145\n",
      "curIndex:146\n",
      "curIndex:147\n",
      "curIndex:148\n",
      "curIndex:149\n",
      "curIndex:150\n",
      "curIndex:151\n",
      "curIndex:152\n",
      "curIndex:153\n",
      "curIndex:154\n",
      "curIndex:155\n",
      "curIndex:156\n",
      "curIndex:157\n",
      "curIndex:158\n",
      "curIndex:159\n",
      "curIndex:160\n",
      "curIndex:161\n",
      "curIndex:162\n",
      "curIndex:163\n",
      "curIndex:164\n",
      "curIndex:165\n",
      "curIndex:166\n",
      "curIndex:167\n",
      "curIndex:168\n",
      "curIndex:169\n",
      "curIndex:170\n",
      "curIndex:171\n",
      "curIndex:172\n",
      "curIndex:173\n",
      "curIndex:174\n",
      "curIndex:175\n",
      "curIndex:176\n",
      "curIndex:177\n",
      "curIndex:178\n",
      "curIndex:179\n",
      "curIndex:180\n",
      "curIndex:181\n",
      "curIndex:182\n",
      "curIndex:183\n",
      "curIndex:184\n",
      "curIndex:185\n",
      "curIndex:186\n",
      "curIndex:187\n",
      "curIndex:188\n",
      "curIndex:189\n",
      "curIndex:190\n",
      "curIndex:191\n",
      "curIndex:192\n",
      "curIndex:193\n",
      "curIndex:194\n",
      "curIndex:195\n",
      "curIndex:196\n",
      "curIndex:197\n",
      "curIndex:198\n",
      "curIndex:199\n",
      "curIndex:200\n",
      "curIndex:201\n",
      "curIndex:202\n",
      "curIndex:203\n",
      "CPU times: user 5min 8s, sys: 99.8 ms, total: 5min 8s\n",
      "Wall time: 5min 12s\n"
     ]
    }
   ],
   "source": [
    "%%time\n",
    "subdag = miner.computeAllProbas()"
   ]
  },
  {
   "cell_type": "code",
   "execution_count": 17,
   "id": "1c1a149e-2062-4393-9b41-7fffccf0a511",
   "metadata": {},
   "outputs": [],
   "source": [
    "miner.fillSdNodesWithObservedValues(allSnapshot.dictSnapshots[0])"
   ]
  },
  {
   "cell_type": "code",
   "execution_count": 18,
   "id": "f581fcbc-2ca2-4bb1-9540-8873a1b587cb",
   "metadata": {},
   "outputs": [],
   "source": [
    "ws = SubDagWritable.SubDagWritable(designPoint, subdag)\n",
    "file_path = dataDirectory + \"probasModel-sv.json\"\n",
    "json.dump(ws, codecs.open(file_path, 'w', encoding='utf-8'), cls = Utils.MyEncoder, sort_keys = True, indent = 4)"
   ]
  }
 ],
 "metadata": {
  "kernelspec": {
   "display_name": "split-sd4x",
   "language": "python",
   "name": "split-sd4x"
  },
  "language_info": {
   "codemirror_mode": {
    "name": "ipython",
    "version": 3
   },
   "file_extension": ".py",
   "mimetype": "text/x-python",
   "name": "python",
   "nbconvert_exporter": "python",
   "pygments_lexer": "ipython3",
   "version": "3.7.10"
  }
 },
 "nbformat": 4,
 "nbformat_minor": 5
}
