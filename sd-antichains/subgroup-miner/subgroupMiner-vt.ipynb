{
 "cells": [
  {
   "cell_type": "code",
   "execution_count": null,
   "id": "f84cd4d4-4649-45d6-a78a-3599a59c50bb",
   "metadata": {},
   "outputs": [],
   "source": [
    "import os\n",
    "import sys\n",
    "import json\n",
    "import codecs\n",
    "import pickle\n",
    "import warnings\n",
    "import math\n",
    "import numpy as np\n",
    "import pandas as pd\n",
    "warnings.filterwarnings(\"ignore\")"
   ]
  },
  {
   "cell_type": "code",
   "execution_count": null,
   "id": "f1b8ed73-f61a-4c60-a19f-c7c0fa1202c1",
   "metadata": {},
   "outputs": [],
   "source": [
    "import DesignPoint\n",
    "import HierarchyMiner\n",
    "import HierarchiesQF\n",
    "import pysubgroup as ps\n",
    "import QualityComputer\n",
    "import ScaleProbaComputer\n",
    "import Snapshots\n",
    "import SubgroupMiner\n",
    "import Target\n",
    "import TargetWRAcc\n",
    "import Utils\n",
    "import WRAccQF"
   ]
  },
  {
   "cell_type": "code",
   "execution_count": null,
   "id": "1287fa35-e9ec-4f5b-a36d-56f628d1c6a6",
   "metadata": {},
   "outputs": [],
   "source": [
    "dataDirectory = os.path.join(os.path.dirname(os.getcwd()), 'data/data-vt/')\n",
    "metadata = pd.read_csv(dataDirectory + 'metadata-vt.csv', index_col = [0])"
   ]
  },
  {
   "cell_type": "markdown",
   "id": "6c0ed6d9-4f6c-4d3e-9bcd-a646bc6bdac4",
   "metadata": {},
   "source": [
    "## 1. SI with update"
   ]
  },
  {
   "cell_type": "code",
   "execution_count": null,
   "id": "05d97d51-2e15-484f-af5e-c33f2c087171",
   "metadata": {},
   "outputs": [],
   "source": [
    "minerSD = pickle.load(open(dataDirectory + 'minerSD-vt', 'rb'))\n",
    "dictSdNodesCorresp = {}\n",
    "for i in range(len(minerSD[0].allSdNodes)) :\n",
    "    dictSdNodesCorresp[minerSD[0].allSdNodes[i].node.id] = i\n",
    "subgroupMiner = SubgroupMiner.SubgroupMiner(minerSD, dictSdNodesCorresp)"
   ]
  },
  {
   "cell_type": "code",
   "execution_count": null,
   "id": "973c0777-35be-4b35-b6b4-f39b013d6a31",
   "metadata": {
    "tags": []
   },
   "outputs": [],
   "source": [
    "%%time\n",
    "nPatterns = 5\n",
    "df_si_update = pd.DataFrame()\n",
    "for cpt in range(nPatterns):\n",
    "    print(\"Pattern : \" + str(cpt + 1))\n",
    "    qf = HierarchiesQF.HierarchiesQF(subgroupMiner, typeDL = 'uniform', alphaSg = 0.8, betaSelectors = 0.2, gammaDl = 1)\n",
    "    target = Target.Target(subgroupMiner, typeDL = 'uniform', gammaDl = 1)\n",
    "    task = ps.SubgroupDiscoveryTask(metadata, target, ps.create_selectors(metadata, ignore=['maxJVM']), result_set_size = 1, depth = 1, qf = qf)\n",
    "    result = ps.BeamSearch(beam_width = 10).execute(task)\n",
    "    res = result.to_dataframe(statistics_to_show=[\"indiceListSnapshots\", \"lenSubgroup\", \"patternIds\", \"patternNames\"])\n",
    "    df_si_update = df_si_update.append(res).reset_index(drop = True)\n",
    "    indicesListMiners = [int(x) for x in res['indiceListSnapshots'].str.strip('[]').str.split(',')[0]]\n",
    "    antichainIds = [int(x) for x in res['patternIds'].str.strip('[]').str.split(',')[0]]\n",
    "    subgroupMiner.updateSdNodesValues(antichainIds, indicesListMiners)"
   ]
  },
  {
   "cell_type": "code",
   "execution_count": null,
   "id": "2ab4cb34-6e85-4caf-99e3-e69e147ba708",
   "metadata": {},
   "outputs": [],
   "source": [
    "df_si_update"
   ]
  },
  {
   "cell_type": "code",
   "execution_count": null,
   "id": "cb8dc6c4-ca58-4e7b-a865-03987ed1a0fb",
   "metadata": {
    "tags": []
   },
   "outputs": [],
   "source": [
    "i = 0\n",
    "Utils.plotOnePattern(df_si_update.iloc[i], minerSD)"
   ]
  },
  {
   "cell_type": "code",
   "execution_count": null,
   "id": "8eb01943-626c-4746-8f1a-80587ba9914a",
   "metadata": {},
   "outputs": [],
   "source": [
    "Utils.plotOneAvgNormalizedCounters(df_si_update, np.arange(df_si_update.shape[0]), minerSD, 'SI with update')"
   ]
  },
  {
   "cell_type": "code",
   "execution_count": null,
   "id": "055d5598-3245-4c5d-986e-79fed61320de",
   "metadata": {},
   "outputs": [],
   "source": [
    "Utils.plotOneContrastMeasure(df_si_update, np.arange(df_si_update.shape[0]), minerSD, 'SI with update')"
   ]
  },
  {
   "cell_type": "code",
   "execution_count": null,
   "id": "a2d001fc-96a6-4505-a83c-66f3927e34a1",
   "metadata": {},
   "outputs": [],
   "source": [
    "Utils.redundVersion1(df_si_update, np.arange(df_si_update.shape[0]), minerSD)"
   ]
  },
  {
   "cell_type": "code",
   "execution_count": null,
   "id": "719da265-7630-4715-aca7-37fdd07a9735",
   "metadata": {},
   "outputs": [],
   "source": [
    "Utils.redundVersion2(df_si_update, np.arange(df_si_update.shape[0]), minerSD)"
   ]
  },
  {
   "cell_type": "markdown",
   "id": "8f0c8c9b-a142-4f1e-bde7-2102be9805c0",
   "metadata": {},
   "source": [
    "## 2. SI sans update"
   ]
  },
  {
   "cell_type": "code",
   "execution_count": null,
   "id": "27b5975f-a445-4fa2-b1a8-d9c0957dfd4a",
   "metadata": {},
   "outputs": [],
   "source": [
    "minerSDCopy = pickle.load(open(dataDirectory + 'minerSD-vt', 'rb'))\n",
    "dictSdNodesCorresp = {}\n",
    "for i in range(len(minerSDCopy[0].allSdNodes)) :\n",
    "    dictSdNodesCorresp[minerSDCopy[0].allSdNodes[i].node.id] = i\n",
    "subgroupMinerCopy = SubgroupMiner.SubgroupMiner(minerSDCopy, dictSdNodesCorresp)"
   ]
  },
  {
   "cell_type": "code",
   "execution_count": null,
   "id": "593061cb-1a8a-4696-ba91-73e979da9942",
   "metadata": {},
   "outputs": [],
   "source": [
    "%%time\n",
    "qf = HierarchiesQF.HierarchiesQF(subgroupMinerCopy, typeDL = 'log', alphaSg = 0.4, betaSelectors = 0.2, gammaDl = 1)\n",
    "target = Target.Target(subgroupMinerCopy, typeDL = 'log', gammaDl = 1)\n",
    "task = ps.SubgroupDiscoveryTask(metadata, target, ps.create_selectors(metadata, ignore=['maxJVM']), result_set_size = 50, depth = 1, qf = qf)\n",
    "result = ps.BeamSearch(beam_width = 50).execute(task)\n",
    "df_si = result.to_dataframe(statistics_to_show=[\"indiceListSnapshots\", \"lenSubgroup\", \"patternIds\", \"patternNames\"])"
   ]
  },
  {
   "cell_type": "code",
   "execution_count": null,
   "id": "45f92f35-7bd4-4b17-83c4-1a9eb97d5b97",
   "metadata": {
    "tags": []
   },
   "outputs": [],
   "source": [
    "for cpt, elt in enumerate(qf.antichains) : \n",
    "    print(cpt, ':', len(elt[0]), elt[2], elt[3], elt[4])"
   ]
  },
  {
   "cell_type": "code",
   "execution_count": null,
   "id": "23ae6fad-f08d-4303-ab28-86b44130edc5",
   "metadata": {},
   "outputs": [],
   "source": [
    "elt = qf.antichains[117]\n",
    "print(len(elt[0]), elt[1], elt[2], elt[3], elt[4])"
   ]
  },
  {
   "cell_type": "code",
   "execution_count": null,
   "id": "f810457a-a4b8-433a-ab85-18f10d1e372e",
   "metadata": {},
   "outputs": [],
   "source": [
    "resultOnePattern(elt[0], elt[1], elt[2], minerSDCopy)"
   ]
  },
  {
   "cell_type": "code",
   "execution_count": null,
   "id": "537d430b-6f24-4fe9-a49c-078655cba990",
   "metadata": {},
   "outputs": [],
   "source": [
    "colorSi = '#c23616'\n",
    "lineWidth = 2.5\n",
    "boxpropsSi = dict(linewidth = lineWidth, color = colorSi)\n",
    "cappropsSi = dict(linewidth = lineWidth, color = colorSi)\n",
    "whiskerpropsSi = dict(linewidth = lineWidth, color = colorSi)\n",
    "flierpropsSi = dict(linewidth = lineWidth, color = colorSi)\n",
    "medianpropsSi = dict(linewidth = lineWidth, color = colorSi)"
   ]
  },
  {
   "cell_type": "code",
   "execution_count": null,
   "id": "209c049b-8d4b-4e7a-9702-47fde2d6d282",
   "metadata": {},
   "outputs": [],
   "source": [
    "import seaborn as sns\n",
    "\n",
    "l1 = []\n",
    "l2 = [371, 388, 690, 629, 640, 637, 631, 615, 662, 621, 612, 584, 610, 611, 608, 609, 528, 590, 71, 551, 544, 548, 546, 567, 490, 350, 339, 583, 331, 327, 540, 512, 544, 431, 538, 546, 542, 563, 585, 581, 596, 414, 527, 414, 398, 419, 429, 400, 359, 384, 383, 390, 370, 345, 339, 370, 352, 376, 314, 354, 301, 698, 686, 635, 701, 594, 603, 591, 618, 677, 728, 713, 749, 709, 711, 1, 1, 1, 1, 1, 1, 1, 1, 1, 1]\n",
    "for idMiner in elt[0] :\n",
    "    for sdnode in minerSDCopy[idMiner].allSdNodes :\n",
    "        if sdnode.node.id == 73 :\n",
    "            l1.append(sdnode.xHat)            \n",
    "plt.figure(figsize=(4,4))       \n",
    "\n",
    "plt.boxplot(l1, labels = ['antichain-Top2'], widths = [0.5], showmeans=False, positions=[1], boxprops = boxpropsSi,capprops = cappropsSi, whiskerprops = whiskerpropsSi,flierprops = flierpropsSi, medianprops = medianpropsSi)\n",
    "plt.boxplot(l2, labels = ['antichain-Top3'], widths = [0.5], showmeans=False, positions=[2], boxprops = boxpropsSi,capprops = cappropsSi, whiskerprops = whiskerpropsSi,flierprops = flierpropsSi,medianprops = medianpropsSi)\n",
    "plt.plot(1,100,'x', label = 'quantile', color = 'green', markersize=10, markeredgewidth = 3)\n",
    "plt.plot(1,2,'+', label = 'xBar', color = 'blue', markersize=10, markeredgewidth = 3)\n",
    "plt.plot(2,344,'x', color = 'green', markersize=10, markeredgewidth = 3)\n",
    "plt.plot(2,1,'+', color = 'blue', markersize=10, markeredgewidth = 3)\n",
    "plt.xticks(fontsize= 12)\n",
    "plt.yticks(fontsize= 12)\n",
    "plt.legend(fontsize = 14)\n",
    "plt.savefig('boxplots', bbox_inches='tight')"
   ]
  },
  {
   "cell_type": "code",
   "execution_count": null,
   "id": "22cf7b34-47f7-4e3a-bc38-64c102104410",
   "metadata": {},
   "outputs": [],
   "source": [
    "from matplotlib import pyplot as plt \n",
    "fig, ax = plt.subplots(figsize = (4,2))\n",
    "xBars = [18,36]\n",
    "avgs = [94,224]\n",
    "names = ['fr.infologic.stocks.fichierbase.modele.Produit', 'fr.infologic.outils.persistance']\n",
    "\n",
    "ax.barh(names[::-1], xBars[::-1], label='xBars', color = '#e74c3c', height = 0.3)\n",
    "ax.barh(names[::-1], avgs[::-1], left = xBars[::-1], label = 'xHats', color = '#1abc9c', height = 0.3)\n",
    "plt.xticks(fontsize=12)\n",
    "plt.yticks(fontsize=12)\n",
    "ax.set_title('\"serverCode = L-r-02401\": 9 snapshots', fontsize = 14)\n",
    "plt.legend()\n",
    "plt.savefig('top2-vt', bbox_inches='tight')"
   ]
  },
  {
   "cell_type": "code",
   "execution_count": null,
   "id": "9ead8b5b-8b99-49ed-9cac-72f081328c2d",
   "metadata": {
    "tags": []
   },
   "outputs": [],
   "source": [
    "df_si"
   ]
  },
  {
   "cell_type": "code",
   "execution_count": null,
   "id": "8c1b582b-5e2a-48cd-a587-3c58ac7af0b3",
   "metadata": {},
   "outputs": [],
   "source": [
    "i = 2\n",
    "Utils.plotOnePattern(df_si.iloc[i], minerSD)"
   ]
  },
  {
   "cell_type": "code",
   "execution_count": null,
   "id": "9059719a-0698-4e5c-b13d-dd7233f4b856",
   "metadata": {},
   "outputs": [],
   "source": [
    "indexes_si = [0, 1, 7, 9, 12, 15, 12, 18, 19]"
   ]
  },
  {
   "cell_type": "code",
   "execution_count": null,
   "id": "9aee3c69-36ca-48a6-a928-21e3dfb7136f",
   "metadata": {},
   "outputs": [],
   "source": [
    "Utils.plotOneAvgNormalizedCounters(df_si, np.arange(df_si.shape[0]), minerSD, 'SI')"
   ]
  },
  {
   "cell_type": "code",
   "execution_count": null,
   "id": "62a8c159-6fd0-409c-840b-b2a9c813b377",
   "metadata": {},
   "outputs": [],
   "source": [
    "Utils.plotOneAvgNormalizedCounters(df_si, indexes_si, minerSD, 'SI')"
   ]
  },
  {
   "cell_type": "code",
   "execution_count": null,
   "id": "17a3c264-9a48-43b7-8764-145895924365",
   "metadata": {},
   "outputs": [],
   "source": [
    "Utils.plotOneContrastMeasure(df_si, np.arange(df_si.shape[0]), minerSD, 'SI')"
   ]
  },
  {
   "cell_type": "code",
   "execution_count": null,
   "id": "9c026c61-3045-4de4-b2c1-a8e6457f3c7f",
   "metadata": {},
   "outputs": [],
   "source": [
    "Utils.plotOneContrastMeasure(df_si, indexes_si, minerSD, 'SI')"
   ]
  },
  {
   "cell_type": "code",
   "execution_count": null,
   "id": "a3bd978d-e160-47b9-9fca-2860af2c37e6",
   "metadata": {},
   "outputs": [],
   "source": [
    "Utils.redundVersion1(df_si, np.arange(df_si.shape[0]), minerSD)"
   ]
  },
  {
   "cell_type": "code",
   "execution_count": null,
   "id": "0bcfb231-2f44-48e0-82c3-d79ee6565551",
   "metadata": {},
   "outputs": [],
   "source": [
    "Utils.redundVersion1(df_si, indexes_si, minerSD)"
   ]
  },
  {
   "cell_type": "code",
   "execution_count": null,
   "id": "85237933-1561-4381-859a-9283bede85ec",
   "metadata": {},
   "outputs": [],
   "source": [
    "Utils.redundVersion2(df_si, np.arange(df_si.shape[0]), minerSD)"
   ]
  },
  {
   "cell_type": "code",
   "execution_count": null,
   "id": "ca03b199-83be-4d73-b651-368237955682",
   "metadata": {},
   "outputs": [],
   "source": [
    "Utils.redundVersion2(df_si, indexes_si, minerSD)"
   ]
  },
  {
   "cell_type": "markdown",
   "id": "eec64a5b-5db2-4c84-8246-abdf18fa6173",
   "metadata": {},
   "source": [
    "## 3. Customized WRAcc"
   ]
  },
  {
   "cell_type": "code",
   "execution_count": null,
   "id": "811d8af1-95c8-4455-a668-20dae8c13415",
   "metadata": {},
   "outputs": [],
   "source": [
    "n_nodes = len(minerSD[0].allSdNodes)\n",
    "dict_nodes = {}"
   ]
  },
  {
   "cell_type": "code",
   "execution_count": null,
   "id": "02f99d35-35d3-4f20-ad5f-510999899b75",
   "metadata": {},
   "outputs": [],
   "source": [
    "for i in range(n_nodes) :\n",
    "    d_node = {}\n",
    "    d_node['id'] = minerSD[0].allSdNodes[i].node.id\n",
    "    d_node['name'] = minerSD[0].allSdNodes[i].node.name\n",
    "    d_node['xBar'] = minerSD[0].allSdNodes[i].xBar\n",
    "    listXhats = []\n",
    "    for j in range(len(minerSD)) :\n",
    "        listXhats.append(minerSD[j].allSdNodes[i].xHat)\n",
    "    d_node['xHats'] = listXhats\n",
    "    dict_nodes[i] = d_node"
   ]
  },
  {
   "cell_type": "code",
   "execution_count": null,
   "id": "09044dbe-5709-4245-bb79-82a49d1cb24f",
   "metadata": {},
   "outputs": [],
   "source": [
    "%%time\n",
    "qf = WRAccQF.WRAccQF(dict_nodes, 4)\n",
    "target = TargetWRAcc.TargetWRAcc(dict_nodes, 4)\n",
    "task = ps.SubgroupDiscoveryTask(metadata, target, ps.create_selectors(metadata), result_set_size = 30, depth = 1, qf = qf)\n",
    "result = ps.BeamSearch(beam_width = 30).execute(task)\n",
    "df_wracc = result.to_dataframe(statistics_to_show=[\"indiceListSnapshots\", \"lenSubgroup\", \"patternIds\", \"patternNames\"])   \n",
    "df_wracc"
   ]
  },
  {
   "cell_type": "code",
   "execution_count": null,
   "id": "6e7b3d56-4039-4d81-92b3-c958841308f9",
   "metadata": {},
   "outputs": [],
   "source": [
    "i = 4\n",
    "Utils.plotOnePattern(df_wracc.iloc[i], minerSD)"
   ]
  },
  {
   "cell_type": "code",
   "execution_count": null,
   "id": "cc449ea1-e7ce-4411-8376-41a6a3b5b628",
   "metadata": {},
   "outputs": [],
   "source": [
    "indexes_wracc = [0, 3, 8, 10, 13, 16, 19, 22, 25, 28]"
   ]
  },
  {
   "cell_type": "code",
   "execution_count": null,
   "id": "9482c9a2-3dcb-4739-970d-525337cf89f1",
   "metadata": {},
   "outputs": [],
   "source": [
    "Utils.plotOneAvgNormalizedCounters(df_wracc, np.arange(df_wracc.shape[0]), minerSD, 'WRAcc')"
   ]
  },
  {
   "cell_type": "code",
   "execution_count": null,
   "id": "9bcb2090-7d1f-4497-bf8b-e0a9dc4c1895",
   "metadata": {},
   "outputs": [],
   "source": [
    "Utils.plotOneAvgNormalizedCounters(df_wracc, indexes_wracc, minerSD, 'WRAcc')"
   ]
  },
  {
   "cell_type": "code",
   "execution_count": null,
   "id": "a9c3352d-64dc-43a4-a250-49f48fe52e54",
   "metadata": {},
   "outputs": [],
   "source": [
    "Utils.plotOneContrastMeasure(df_wracc, np.arange(df_wracc.shape[0]), minerSD, 'WRAcc')"
   ]
  },
  {
   "cell_type": "code",
   "execution_count": null,
   "id": "b43dd662-4ac5-49b6-8fae-25aaec34b20b",
   "metadata": {},
   "outputs": [],
   "source": [
    "Utils.plotOneContrastMeasure(df_wracc, indexes_wracc, minerSD, 'WRAcc')"
   ]
  },
  {
   "cell_type": "code",
   "execution_count": null,
   "id": "02a667a1-8ed2-4d75-832b-eb1042fda879",
   "metadata": {},
   "outputs": [],
   "source": [
    "Utils.redundVersion1(df_wracc, np.arange(df_wracc.shape[0]), minerSD)"
   ]
  },
  {
   "cell_type": "code",
   "execution_count": null,
   "id": "3ce9cca1-b2e0-4788-a3dc-9ed4a49272ca",
   "metadata": {},
   "outputs": [],
   "source": [
    "Utils.redundVersion1(df_wracc, indexes_wracc, minerSD)"
   ]
  },
  {
   "cell_type": "code",
   "execution_count": null,
   "id": "a2a58c38-95fc-4063-baab-6b50344959e8",
   "metadata": {},
   "outputs": [],
   "source": [
    "Utils.redundVersion2(df_wracc, np.arange(df_wracc.shape[0]), minerSD)"
   ]
  },
  {
   "cell_type": "code",
   "execution_count": null,
   "id": "ac8c2c13-5f3c-47b2-9a90-c1a14ad915fd",
   "metadata": {},
   "outputs": [],
   "source": [
    "Utils.redundVersion2(df_wracc, indexes_wracc, minerSD)"
   ]
  },
  {
   "cell_type": "markdown",
   "id": "954f4fc8-64c8-49c6-a0b2-c91f68db85ee",
   "metadata": {},
   "source": [
    "## 4. Putting all together"
   ]
  },
  {
   "cell_type": "markdown",
   "id": "07fc8497-f524-4da2-80cf-29fb918d911a",
   "metadata": {},
   "source": [
    "### 4.1 Avg counters"
   ]
  },
  {
   "cell_type": "code",
   "execution_count": null,
   "id": "f278d634-a7cd-4851-aaec-a1a4a5b73a74",
   "metadata": {},
   "outputs": [],
   "source": [
    "Utils.plotAllAvgsNormalizedCounters([df_si_update, df_si, df_si, df_wracc, df_wracc], [np.arange(5), np.arange(20), indexes_si, np.arange(20), indexes_wracc], minerSD)"
   ]
  },
  {
   "cell_type": "markdown",
   "id": "6f68a15a-c0b5-46bc-9388-0a112751849e",
   "metadata": {},
   "source": [
    "### 4.2 Contrast"
   ]
  },
  {
   "cell_type": "code",
   "execution_count": null,
   "id": "a1a67d90-ebd3-4ad9-9a6d-80c858cac21a",
   "metadata": {},
   "outputs": [],
   "source": [
    "Utils.plotAllContrastMeasure([df_si_update, df_si, df_si, df_wracc, df_wracc], [np.arange(5), np.arange(20), indexes_si, np.arange(20), indexes_wracc], minerSD)"
   ]
  },
  {
   "cell_type": "markdown",
   "id": "0f384e4f-9a9f-409b-919d-cb4b49608867",
   "metadata": {},
   "source": [
    "### 4.3 Redund"
   ]
  },
  {
   "cell_type": "code",
   "execution_count": null,
   "id": "8d35746c-960e-4312-9bf1-2091fa06d1e6",
   "metadata": {},
   "outputs": [],
   "source": [
    "Utils.plotAllRedundV2([df_si_update, df_si, df_si, df_wracc, df_wracc], [np.arange(5), np.arange(20), indexes_si, np.arange(20), indexes_wracc], minerSD)"
   ]
  }
 ],
 "metadata": {
  "kernelspec": {
   "display_name": "split-sd4x",
   "language": "python",
   "name": "split-sd4x"
  },
  "language_info": {
   "codemirror_mode": {
    "name": "ipython",
    "version": 3
   },
   "file_extension": ".py",
   "mimetype": "text/x-python",
   "name": "python",
   "nbconvert_exporter": "python",
   "pygments_lexer": "ipython3",
   "version": "3.7.10"
  }
 },
 "nbformat": 4,
 "nbformat_minor": 5
}
